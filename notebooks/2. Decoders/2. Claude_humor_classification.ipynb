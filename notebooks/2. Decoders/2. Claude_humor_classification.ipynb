{
  "cells": [
    {
      "cell_type": "code",
      "execution_count": null,
      "metadata": {
        "colab": {
          "base_uri": "https://localhost:8080/"
        },
        "id": "JSwloprD6oMs",
        "outputId": "3c7f70e0-e272-477d-f4a8-a01ceae5d41f"
      },
      "outputs": [
        {
          "name": "stdout",
          "output_type": "stream",
          "text": [
            "Collecting anthropic\n",
            "  Downloading anthropic-0.51.0-py3-none-any.whl.metadata (25 kB)\n",
            "Requirement already satisfied: anyio<5,>=3.5.0 in /usr/local/lib/python3.11/dist-packages (from anthropic) (4.9.0)\n",
            "Requirement already satisfied: distro<2,>=1.7.0 in /usr/local/lib/python3.11/dist-packages (from anthropic) (1.9.0)\n",
            "Requirement already satisfied: httpx<1,>=0.25.0 in /usr/local/lib/python3.11/dist-packages (from anthropic) (0.28.1)\n",
            "Requirement already satisfied: jiter<1,>=0.4.0 in /usr/local/lib/python3.11/dist-packages (from anthropic) (0.9.0)\n",
            "Requirement already satisfied: pydantic<3,>=1.9.0 in /usr/local/lib/python3.11/dist-packages (from anthropic) (2.11.4)\n",
            "Requirement already satisfied: sniffio in /usr/local/lib/python3.11/dist-packages (from anthropic) (1.3.1)\n",
            "Requirement already satisfied: typing-extensions<5,>=4.10 in /usr/local/lib/python3.11/dist-packages (from anthropic) (4.13.2)\n",
            "Requirement already satisfied: idna>=2.8 in /usr/local/lib/python3.11/dist-packages (from anyio<5,>=3.5.0->anthropic) (3.10)\n",
            "Requirement already satisfied: certifi in /usr/local/lib/python3.11/dist-packages (from httpx<1,>=0.25.0->anthropic) (2025.4.26)\n",
            "Requirement already satisfied: httpcore==1.* in /usr/local/lib/python3.11/dist-packages (from httpx<1,>=0.25.0->anthropic) (1.0.9)\n",
            "Requirement already satisfied: h11>=0.16 in /usr/local/lib/python3.11/dist-packages (from httpcore==1.*->httpx<1,>=0.25.0->anthropic) (0.16.0)\n",
            "Requirement already satisfied: annotated-types>=0.6.0 in /usr/local/lib/python3.11/dist-packages (from pydantic<3,>=1.9.0->anthropic) (0.7.0)\n",
            "Requirement already satisfied: pydantic-core==2.33.2 in /usr/local/lib/python3.11/dist-packages (from pydantic<3,>=1.9.0->anthropic) (2.33.2)\n",
            "Requirement already satisfied: typing-inspection>=0.4.0 in /usr/local/lib/python3.11/dist-packages (from pydantic<3,>=1.9.0->anthropic) (0.4.0)\n",
            "Downloading anthropic-0.51.0-py3-none-any.whl (263 kB)\n",
            "\u001b[2K   \u001b[90m━━━━━━━━━━━━━━━━━━━━━━━━━━━━━━━━━━━━━━━━\u001b[0m \u001b[32m264.0/264.0 kB\u001b[0m \u001b[31m6.0 MB/s\u001b[0m eta \u001b[36m0:00:00\u001b[0m\n",
            "\u001b[?25hInstalling collected packages: anthropic\n",
            "Successfully installed anthropic-0.51.0\n"
          ]
        }
      ],
      "source": [
        "!pip install anthropic"
      ]
    },
    {
      "cell_type": "code",
      "execution_count": null,
      "metadata": {
        "id": "XSSNXh1S29bg"
      },
      "outputs": [],
      "source": [
        "import matplotlib.pyplot as plt\n",
        "import numpy as np\n",
        "import pandas as pd\n",
        "\n",
        "import anthropic\n",
        "\n",
        "from sklearn.metrics import classification_report, confusion_matrix, ConfusionMatrixDisplay"
      ]
    },
    {
      "cell_type": "markdown",
      "metadata": {
        "id": "jSWi4Lr5AYmi"
      },
      "source": [
        "# Data"
      ]
    },
    {
      "cell_type": "code",
      "execution_count": null,
      "metadata": {
        "id": "SNAUzP-9AZIE"
      },
      "outputs": [],
      "source": [
        "data = pd.read_excel('Data_final.xlsx')"
      ]
    },
    {
      "cell_type": "code",
      "execution_count": null,
      "metadata": {
        "id": "Fcm_BkyaFkzG"
      },
      "outputs": [],
      "source": [
        "data_test = data.copy()\n",
        "data_test = data_test[data_test['Dataset'] == 'test']\n",
        "#data_test['label'] = np.where(data_test['Categoria'] == 'Humor', 1, 0)\n",
        "data_test = data_test.rename(columns={'ID': 'id', 'Texto': 'text', 'Categoría de 1 a 5': 'score'})\n",
        "data_test = data_test[['id', 'text', 'Categoria', 'score']]\n",
        "data_test = data_test.reset_index(drop=True)"
      ]
    },
    {
      "cell_type": "code",
      "execution_count": null,
      "metadata": {
        "colab": {
          "base_uri": "https://localhost:8080/",
          "height": 206
        },
        "id": "xlbxlvIlFfJo",
        "outputId": "6bb04def-b468-4250-80f6-f99f365bd2ab"
      },
      "outputs": [
        {
          "data": {
            "application/vnd.google.colaboratory.intrinsic+json": {
              "summary": "{\n  \"name\": \"data_test\",\n  \"rows\": 2000,\n  \"fields\": [\n    {\n      \"column\": \"id\",\n      \"properties\": {\n        \"dtype\": \"number\",\n        \"std\": 3661,\n        \"min\": 1,\n        \"max\": 10937,\n        \"num_unique_values\": 2000,\n        \"samples\": [\n          10109,\n          815,\n          6907\n        ],\n        \"semantic_type\": \"\",\n        \"description\": \"\"\n      }\n    },\n    {\n      \"column\": \"text\",\n      \"properties\": {\n        \"dtype\": \"string\",\n        \"num_unique_values\": 2000,\n        \"samples\": [\n          \"\\u00bfQu\\u00e9 elemento de la tabla peri\\u00f3dica tiene como s\\u00edmbolo He? Helio.\",\n          \"-Papi, \\u00a1feliz d\\u00eda del abuelo!  -Ay hijita pero no tengo ning\\u00fan nieto.  -\\u00a1SORPRESAAA!\",\n          \"Absolute debe ver el documental para cualquier persona interesada en llegar al fondo de esta historia.Dijo con un ojo inquebrantable y con estilo de agarre.Si cree que las teor\\u00edas de conspiraci\\u00f3n son para las personas perturbadas paranoicas, esto podr\\u00eda cambiar de opini\\u00f3n.\\u00a1Algo para usted tambi\\u00e9n: \\u00a1un buen modelo para las cubiertas del gobierno!Si le gustan las noticias, todo ordenado y f\\u00e1cil de consumir esto no es para ti.\"\n        ],\n        \"semantic_type\": \"\",\n        \"description\": \"\"\n      }\n    },\n    {\n      \"column\": \"Categoria\",\n      \"properties\": {\n        \"dtype\": \"category\",\n        \"num_unique_values\": 2,\n        \"samples\": [\n          \"No Humor\",\n          \"Humor\"\n        ],\n        \"semantic_type\": \"\",\n        \"description\": \"\"\n      }\n    },\n    {\n      \"column\": \"score\",\n      \"properties\": {\n        \"dtype\": \"number\",\n        \"std\": 1.0174916111265357,\n        \"min\": 1.0,\n        \"max\": 5.0,\n        \"num_unique_values\": 5,\n        \"samples\": [\n          3.0,\n          5.0\n        ],\n        \"semantic_type\": \"\",\n        \"description\": \"\"\n      }\n    }\n  ]\n}",
              "type": "dataframe",
              "variable_name": "data_test"
            },
            "text/html": [
              "\n",
              "  <div id=\"df-c3ab8b9e-ccef-4039-9530-cae3cb8e7b44\" class=\"colab-df-container\">\n",
              "    <div>\n",
              "<style scoped>\n",
              "    .dataframe tbody tr th:only-of-type {\n",
              "        vertical-align: middle;\n",
              "    }\n",
              "\n",
              "    .dataframe tbody tr th {\n",
              "        vertical-align: top;\n",
              "    }\n",
              "\n",
              "    .dataframe thead th {\n",
              "        text-align: right;\n",
              "    }\n",
              "</style>\n",
              "<table border=\"1\" class=\"dataframe\">\n",
              "  <thead>\n",
              "    <tr style=\"text-align: right;\">\n",
              "      <th></th>\n",
              "      <th>id</th>\n",
              "      <th>text</th>\n",
              "      <th>Categoria</th>\n",
              "      <th>score</th>\n",
              "    </tr>\n",
              "  </thead>\n",
              "  <tbody>\n",
              "    <tr>\n",
              "      <th>0</th>\n",
              "      <td>1</td>\n",
              "      <td>- ¡Rápido, necesitamos sangre! - Yo soy 0 posi...</td>\n",
              "      <td>Humor</td>\n",
              "      <td>4.0</td>\n",
              "    </tr>\n",
              "    <tr>\n",
              "      <th>1</th>\n",
              "      <td>3</td>\n",
              "      <td>El otro día unas chicas llamarón a mi puerta y...</td>\n",
              "      <td>Humor</td>\n",
              "      <td>3.0</td>\n",
              "    </tr>\n",
              "    <tr>\n",
              "      <th>2</th>\n",
              "      <td>6</td>\n",
              "      <td>Van dos ciegos y le dice uno al otro:  - Ojalá...</td>\n",
              "      <td>Humor</td>\n",
              "      <td>2.0</td>\n",
              "    </tr>\n",
              "    <tr>\n",
              "      <th>3</th>\n",
              "      <td>7</td>\n",
              "      <td>Noticia de última hora!!   Muere una suegra at...</td>\n",
              "      <td>Humor</td>\n",
              "      <td>4.0</td>\n",
              "    </tr>\n",
              "    <tr>\n",
              "      <th>4</th>\n",
              "      <td>9</td>\n",
              "      <td>– Mamá, mamá, ¿me haces un bocata de jamón? – ...</td>\n",
              "      <td>Humor</td>\n",
              "      <td>1.0</td>\n",
              "    </tr>\n",
              "  </tbody>\n",
              "</table>\n",
              "</div>\n",
              "    <div class=\"colab-df-buttons\">\n",
              "\n",
              "  <div class=\"colab-df-container\">\n",
              "    <button class=\"colab-df-convert\" onclick=\"convertToInteractive('df-c3ab8b9e-ccef-4039-9530-cae3cb8e7b44')\"\n",
              "            title=\"Convert this dataframe to an interactive table.\"\n",
              "            style=\"display:none;\">\n",
              "\n",
              "  <svg xmlns=\"http://www.w3.org/2000/svg\" height=\"24px\" viewBox=\"0 -960 960 960\">\n",
              "    <path d=\"M120-120v-720h720v720H120Zm60-500h600v-160H180v160Zm220 220h160v-160H400v160Zm0 220h160v-160H400v160ZM180-400h160v-160H180v160Zm440 0h160v-160H620v160ZM180-180h160v-160H180v160Zm440 0h160v-160H620v160Z\"/>\n",
              "  </svg>\n",
              "    </button>\n",
              "\n",
              "  <style>\n",
              "    .colab-df-container {\n",
              "      display:flex;\n",
              "      gap: 12px;\n",
              "    }\n",
              "\n",
              "    .colab-df-convert {\n",
              "      background-color: #E8F0FE;\n",
              "      border: none;\n",
              "      border-radius: 50%;\n",
              "      cursor: pointer;\n",
              "      display: none;\n",
              "      fill: #1967D2;\n",
              "      height: 32px;\n",
              "      padding: 0 0 0 0;\n",
              "      width: 32px;\n",
              "    }\n",
              "\n",
              "    .colab-df-convert:hover {\n",
              "      background-color: #E2EBFA;\n",
              "      box-shadow: 0px 1px 2px rgba(60, 64, 67, 0.3), 0px 1px 3px 1px rgba(60, 64, 67, 0.15);\n",
              "      fill: #174EA6;\n",
              "    }\n",
              "\n",
              "    .colab-df-buttons div {\n",
              "      margin-bottom: 4px;\n",
              "    }\n",
              "\n",
              "    [theme=dark] .colab-df-convert {\n",
              "      background-color: #3B4455;\n",
              "      fill: #D2E3FC;\n",
              "    }\n",
              "\n",
              "    [theme=dark] .colab-df-convert:hover {\n",
              "      background-color: #434B5C;\n",
              "      box-shadow: 0px 1px 3px 1px rgba(0, 0, 0, 0.15);\n",
              "      filter: drop-shadow(0px 1px 2px rgba(0, 0, 0, 0.3));\n",
              "      fill: #FFFFFF;\n",
              "    }\n",
              "  </style>\n",
              "\n",
              "    <script>\n",
              "      const buttonEl =\n",
              "        document.querySelector('#df-c3ab8b9e-ccef-4039-9530-cae3cb8e7b44 button.colab-df-convert');\n",
              "      buttonEl.style.display =\n",
              "        google.colab.kernel.accessAllowed ? 'block' : 'none';\n",
              "\n",
              "      async function convertToInteractive(key) {\n",
              "        const element = document.querySelector('#df-c3ab8b9e-ccef-4039-9530-cae3cb8e7b44');\n",
              "        const dataTable =\n",
              "          await google.colab.kernel.invokeFunction('convertToInteractive',\n",
              "                                                    [key], {});\n",
              "        if (!dataTable) return;\n",
              "\n",
              "        const docLinkHtml = 'Like what you see? Visit the ' +\n",
              "          '<a target=\"_blank\" href=https://colab.research.google.com/notebooks/data_table.ipynb>data table notebook</a>'\n",
              "          + ' to learn more about interactive tables.';\n",
              "        element.innerHTML = '';\n",
              "        dataTable['output_type'] = 'display_data';\n",
              "        await google.colab.output.renderOutput(dataTable, element);\n",
              "        const docLink = document.createElement('div');\n",
              "        docLink.innerHTML = docLinkHtml;\n",
              "        element.appendChild(docLink);\n",
              "      }\n",
              "    </script>\n",
              "  </div>\n",
              "\n",
              "\n",
              "    <div id=\"df-0f71e110-73e1-4b3e-b042-5cf972918836\">\n",
              "      <button class=\"colab-df-quickchart\" onclick=\"quickchart('df-0f71e110-73e1-4b3e-b042-5cf972918836')\"\n",
              "                title=\"Suggest charts\"\n",
              "                style=\"display:none;\">\n",
              "\n",
              "<svg xmlns=\"http://www.w3.org/2000/svg\" height=\"24px\"viewBox=\"0 0 24 24\"\n",
              "     width=\"24px\">\n",
              "    <g>\n",
              "        <path d=\"M19 3H5c-1.1 0-2 .9-2 2v14c0 1.1.9 2 2 2h14c1.1 0 2-.9 2-2V5c0-1.1-.9-2-2-2zM9 17H7v-7h2v7zm4 0h-2V7h2v10zm4 0h-2v-4h2v4z\"/>\n",
              "    </g>\n",
              "</svg>\n",
              "      </button>\n",
              "\n",
              "<style>\n",
              "  .colab-df-quickchart {\n",
              "      --bg-color: #E8F0FE;\n",
              "      --fill-color: #1967D2;\n",
              "      --hover-bg-color: #E2EBFA;\n",
              "      --hover-fill-color: #174EA6;\n",
              "      --disabled-fill-color: #AAA;\n",
              "      --disabled-bg-color: #DDD;\n",
              "  }\n",
              "\n",
              "  [theme=dark] .colab-df-quickchart {\n",
              "      --bg-color: #3B4455;\n",
              "      --fill-color: #D2E3FC;\n",
              "      --hover-bg-color: #434B5C;\n",
              "      --hover-fill-color: #FFFFFF;\n",
              "      --disabled-bg-color: #3B4455;\n",
              "      --disabled-fill-color: #666;\n",
              "  }\n",
              "\n",
              "  .colab-df-quickchart {\n",
              "    background-color: var(--bg-color);\n",
              "    border: none;\n",
              "    border-radius: 50%;\n",
              "    cursor: pointer;\n",
              "    display: none;\n",
              "    fill: var(--fill-color);\n",
              "    height: 32px;\n",
              "    padding: 0;\n",
              "    width: 32px;\n",
              "  }\n",
              "\n",
              "  .colab-df-quickchart:hover {\n",
              "    background-color: var(--hover-bg-color);\n",
              "    box-shadow: 0 1px 2px rgba(60, 64, 67, 0.3), 0 1px 3px 1px rgba(60, 64, 67, 0.15);\n",
              "    fill: var(--button-hover-fill-color);\n",
              "  }\n",
              "\n",
              "  .colab-df-quickchart-complete:disabled,\n",
              "  .colab-df-quickchart-complete:disabled:hover {\n",
              "    background-color: var(--disabled-bg-color);\n",
              "    fill: var(--disabled-fill-color);\n",
              "    box-shadow: none;\n",
              "  }\n",
              "\n",
              "  .colab-df-spinner {\n",
              "    border: 2px solid var(--fill-color);\n",
              "    border-color: transparent;\n",
              "    border-bottom-color: var(--fill-color);\n",
              "    animation:\n",
              "      spin 1s steps(1) infinite;\n",
              "  }\n",
              "\n",
              "  @keyframes spin {\n",
              "    0% {\n",
              "      border-color: transparent;\n",
              "      border-bottom-color: var(--fill-color);\n",
              "      border-left-color: var(--fill-color);\n",
              "    }\n",
              "    20% {\n",
              "      border-color: transparent;\n",
              "      border-left-color: var(--fill-color);\n",
              "      border-top-color: var(--fill-color);\n",
              "    }\n",
              "    30% {\n",
              "      border-color: transparent;\n",
              "      border-left-color: var(--fill-color);\n",
              "      border-top-color: var(--fill-color);\n",
              "      border-right-color: var(--fill-color);\n",
              "    }\n",
              "    40% {\n",
              "      border-color: transparent;\n",
              "      border-right-color: var(--fill-color);\n",
              "      border-top-color: var(--fill-color);\n",
              "    }\n",
              "    60% {\n",
              "      border-color: transparent;\n",
              "      border-right-color: var(--fill-color);\n",
              "    }\n",
              "    80% {\n",
              "      border-color: transparent;\n",
              "      border-right-color: var(--fill-color);\n",
              "      border-bottom-color: var(--fill-color);\n",
              "    }\n",
              "    90% {\n",
              "      border-color: transparent;\n",
              "      border-bottom-color: var(--fill-color);\n",
              "    }\n",
              "  }\n",
              "</style>\n",
              "\n",
              "      <script>\n",
              "        async function quickchart(key) {\n",
              "          const quickchartButtonEl =\n",
              "            document.querySelector('#' + key + ' button');\n",
              "          quickchartButtonEl.disabled = true;  // To prevent multiple clicks.\n",
              "          quickchartButtonEl.classList.add('colab-df-spinner');\n",
              "          try {\n",
              "            const charts = await google.colab.kernel.invokeFunction(\n",
              "                'suggestCharts', [key], {});\n",
              "          } catch (error) {\n",
              "            console.error('Error during call to suggestCharts:', error);\n",
              "          }\n",
              "          quickchartButtonEl.classList.remove('colab-df-spinner');\n",
              "          quickchartButtonEl.classList.add('colab-df-quickchart-complete');\n",
              "        }\n",
              "        (() => {\n",
              "          let quickchartButtonEl =\n",
              "            document.querySelector('#df-0f71e110-73e1-4b3e-b042-5cf972918836 button');\n",
              "          quickchartButtonEl.style.display =\n",
              "            google.colab.kernel.accessAllowed ? 'block' : 'none';\n",
              "        })();\n",
              "      </script>\n",
              "    </div>\n",
              "\n",
              "    </div>\n",
              "  </div>\n"
            ],
            "text/plain": [
              "   id                                               text Categoria  score\n",
              "0   1  - ¡Rápido, necesitamos sangre! - Yo soy 0 posi...     Humor    4.0\n",
              "1   3  El otro día unas chicas llamarón a mi puerta y...     Humor    3.0\n",
              "2   6  Van dos ciegos y le dice uno al otro:  - Ojalá...     Humor    2.0\n",
              "3   7  Noticia de última hora!!   Muere una suegra at...     Humor    4.0\n",
              "4   9  – Mamá, mamá, ¿me haces un bocata de jamón? – ...     Humor    1.0"
            ]
          },
          "execution_count": 10,
          "metadata": {},
          "output_type": "execute_result"
        }
      ],
      "source": [
        "data_test.head()"
      ]
    },
    {
      "cell_type": "code",
      "execution_count": null,
      "metadata": {
        "colab": {
          "base_uri": "https://localhost:8080/"
        },
        "id": "PLQEa13kJVsI",
        "outputId": "2d8fd2be-3200-4019-dd53-dfdfedbf4266"
      },
      "outputs": [
        {
          "data": {
            "text/plain": [
              "(2000, 4)"
            ]
          },
          "execution_count": 11,
          "metadata": {},
          "output_type": "execute_result"
        }
      ],
      "source": [
        "data_test.shape"
      ]
    },
    {
      "cell_type": "code",
      "execution_count": null,
      "metadata": {
        "colab": {
          "base_uri": "https://localhost:8080/",
          "height": 178
        },
        "id": "ry6pmNxTJW1B",
        "outputId": "d7e8639a-8267-41b9-9925-651230702d79"
      },
      "outputs": [
        {
          "data": {
            "text/html": [
              "<div>\n",
              "<style scoped>\n",
              "    .dataframe tbody tr th:only-of-type {\n",
              "        vertical-align: middle;\n",
              "    }\n",
              "\n",
              "    .dataframe tbody tr th {\n",
              "        vertical-align: top;\n",
              "    }\n",
              "\n",
              "    .dataframe thead th {\n",
              "        text-align: right;\n",
              "    }\n",
              "</style>\n",
              "<table border=\"1\" class=\"dataframe\">\n",
              "  <thead>\n",
              "    <tr style=\"text-align: right;\">\n",
              "      <th></th>\n",
              "      <th>count</th>\n",
              "    </tr>\n",
              "    <tr>\n",
              "      <th>Categoria</th>\n",
              "      <th></th>\n",
              "    </tr>\n",
              "  </thead>\n",
              "  <tbody>\n",
              "    <tr>\n",
              "      <th>Humor</th>\n",
              "      <td>1196</td>\n",
              "    </tr>\n",
              "    <tr>\n",
              "      <th>No Humor</th>\n",
              "      <td>804</td>\n",
              "    </tr>\n",
              "  </tbody>\n",
              "</table>\n",
              "</div><br><label><b>dtype:</b> int64</label>"
            ],
            "text/plain": [
              "Categoria\n",
              "Humor       1196\n",
              "No Humor     804\n",
              "Name: count, dtype: int64"
            ]
          },
          "execution_count": 13,
          "metadata": {},
          "output_type": "execute_result"
        }
      ],
      "source": [
        "data_test['Categoria'].value_counts()"
      ]
    },
    {
      "cell_type": "markdown",
      "metadata": {
        "id": "kwdb7Ju9AS20"
      },
      "source": [
        "# Claude"
      ]
    },
    {
      "cell_type": "code",
      "execution_count": null,
      "metadata": {
        "id": "y6nS4n0J63Gj"
      },
      "outputs": [],
      "source": [
        "api_key = 'API_KEY_CLAUDE'\n",
        "client = anthropic.Anthropic(api_key=api_key)"
      ]
    },
    {
      "cell_type": "code",
      "execution_count": null,
      "metadata": {
        "colab": {
          "base_uri": "https://localhost:8080/"
        },
        "id": "SXckIdvQ6kkY",
        "outputId": "f87c68fe-0148-479f-b8a7-da6c28abad8c"
      },
      "outputs": [
        {
          "name": "stdout",
          "output_type": "stream",
          "text": [
            "La división administrativa de México se estructura de la siguiente manera:\n",
            "\n",
            "1. Estados:\n",
            "- México está dividido en 32 entidades federativas:\n",
            "- 31 estados\n",
            "- 1 Ciudad de México (capital)\n",
            "\n",
            "2. Municipios:\n",
            "- Los estados se dividen en municipios\n",
            "- Hay aproximadamente 2,457 municipios en todo el país\n",
            "- La Ciudad de México se divide en 16 alcaldías (anteri\n"
          ]
        }
      ],
      "source": [
        "response = client.messages.create(\n",
        "    model='claude-3-5-sonnet-20241022',\n",
        "    max_tokens=100,\n",
        "    messages=[\n",
        "        {\"role\": \"user\", \"content\": \"Explícame la división administrativa de México.\"}\n",
        "    ]\n",
        ")\n",
        "\n",
        "print(response.content[0].text)"
      ]
    },
    {
      "cell_type": "markdown",
      "metadata": {
        "id": "Qi7SGsoX-v1b"
      },
      "source": [
        "## Binary"
      ]
    },
    {
      "cell_type": "code",
      "execution_count": null,
      "metadata": {
        "id": "WgovqFtsJNGn"
      },
      "outputs": [],
      "source": [
        "def predict_label(texts):\n",
        "    predictions = []\n",
        "    for i, text in enumerate(texts):\n",
        "        prompt = f\"\"\"Tu tarea es clasificar un texto en 'Humor' o 'No Humor'. Responde solo con una de las dos etiquetas, sin texto adicional.\n",
        "\n",
        "                      Ejemplos:\n",
        "                      Texto: ¿Cuál es el animal más antiguo? – La vaca – ¿Por qué? – Porque está en blanco y negro.\n",
        "                      Etiqueta: Humor\n",
        "\n",
        "                      Texto: Hoy se cumplen 10 años desde que empecé mi trabajo actual. Ha sido un camino lleno de aprendizajes y desafíos.\n",
        "                      Etiqueta: No Humor\n",
        "\n",
        "                      Texto: {text}\n",
        "                      Etiqueta:\"\"\"\n",
        "        response = client.messages.create(\n",
        "            model=\"claude-3-5-sonnet-20241022\",\n",
        "            max_tokens=10,\n",
        "            messages=[\n",
        "                {\"role\": \"user\", \"content\": prompt}\n",
        "            ]\n",
        "        )\n",
        "        prediction = response.content[0].text\n",
        "        predictions.append(prediction)\n",
        "        if (i + 1) % 10 == 0 or (i + 1) == len(texts):\n",
        "            print(f\"Classified texts: {i+1}/{len(texts)}\")\n",
        "    return predictions"
      ]
    },
    {
      "cell_type": "code",
      "execution_count": null,
      "metadata": {
        "colab": {
          "base_uri": "https://localhost:8080/"
        },
        "id": "LyK-mB7XMRnV",
        "outputId": "fa1d6099-405b-480d-a082-2d74f15467d1"
      },
      "outputs": [
        {
          "name": "stdout",
          "output_type": "stream",
          "text": [
            "Classified texts: 10/2000\n",
            "Classified texts: 20/2000\n",
            "Classified texts: 30/2000\n",
            "Classified texts: 40/2000\n",
            "Classified texts: 50/2000\n",
            "Classified texts: 60/2000\n",
            "Classified texts: 70/2000\n",
            "Classified texts: 80/2000\n",
            "Classified texts: 90/2000\n",
            "Classified texts: 100/2000\n",
            "Classified texts: 110/2000\n",
            "Classified texts: 120/2000\n",
            "Classified texts: 130/2000\n",
            "Classified texts: 140/2000\n",
            "Classified texts: 150/2000\n",
            "Classified texts: 160/2000\n",
            "Classified texts: 170/2000\n",
            "Classified texts: 180/2000\n",
            "Classified texts: 190/2000\n",
            "Classified texts: 200/2000\n",
            "Classified texts: 210/2000\n",
            "Classified texts: 220/2000\n",
            "Classified texts: 230/2000\n",
            "Classified texts: 240/2000\n",
            "Classified texts: 250/2000\n",
            "Classified texts: 260/2000\n",
            "Classified texts: 270/2000\n",
            "Classified texts: 280/2000\n",
            "Classified texts: 290/2000\n",
            "Classified texts: 300/2000\n",
            "Classified texts: 310/2000\n",
            "Classified texts: 320/2000\n",
            "Classified texts: 330/2000\n",
            "Classified texts: 340/2000\n",
            "Classified texts: 350/2000\n",
            "Classified texts: 360/2000\n",
            "Classified texts: 370/2000\n",
            "Classified texts: 380/2000\n",
            "Classified texts: 390/2000\n",
            "Classified texts: 400/2000\n",
            "Classified texts: 410/2000\n",
            "Classified texts: 420/2000\n",
            "Classified texts: 430/2000\n",
            "Classified texts: 440/2000\n",
            "Classified texts: 450/2000\n",
            "Classified texts: 460/2000\n",
            "Classified texts: 470/2000\n",
            "Classified texts: 480/2000\n",
            "Classified texts: 490/2000\n",
            "Classified texts: 500/2000\n",
            "Classified texts: 510/2000\n",
            "Classified texts: 520/2000\n",
            "Classified texts: 530/2000\n",
            "Classified texts: 540/2000\n",
            "Classified texts: 550/2000\n",
            "Classified texts: 560/2000\n",
            "Classified texts: 570/2000\n",
            "Classified texts: 580/2000\n",
            "Classified texts: 590/2000\n",
            "Classified texts: 600/2000\n",
            "Classified texts: 610/2000\n",
            "Classified texts: 620/2000\n",
            "Classified texts: 630/2000\n",
            "Classified texts: 640/2000\n",
            "Classified texts: 650/2000\n",
            "Classified texts: 660/2000\n",
            "Classified texts: 670/2000\n",
            "Classified texts: 680/2000\n",
            "Classified texts: 690/2000\n",
            "Classified texts: 700/2000\n",
            "Classified texts: 710/2000\n",
            "Classified texts: 720/2000\n",
            "Classified texts: 730/2000\n",
            "Classified texts: 740/2000\n",
            "Classified texts: 750/2000\n",
            "Classified texts: 760/2000\n",
            "Classified texts: 770/2000\n",
            "Classified texts: 780/2000\n",
            "Classified texts: 790/2000\n",
            "Classified texts: 800/2000\n",
            "Classified texts: 810/2000\n",
            "Classified texts: 820/2000\n",
            "Classified texts: 830/2000\n",
            "Classified texts: 840/2000\n",
            "Classified texts: 850/2000\n",
            "Classified texts: 860/2000\n",
            "Classified texts: 870/2000\n",
            "Classified texts: 880/2000\n",
            "Classified texts: 890/2000\n",
            "Classified texts: 900/2000\n",
            "Classified texts: 910/2000\n",
            "Classified texts: 920/2000\n",
            "Classified texts: 930/2000\n",
            "Classified texts: 940/2000\n",
            "Classified texts: 950/2000\n",
            "Classified texts: 960/2000\n",
            "Classified texts: 970/2000\n",
            "Classified texts: 980/2000\n",
            "Classified texts: 990/2000\n",
            "Classified texts: 1000/2000\n",
            "Classified texts: 1010/2000\n",
            "Classified texts: 1020/2000\n",
            "Classified texts: 1030/2000\n",
            "Classified texts: 1040/2000\n",
            "Classified texts: 1050/2000\n",
            "Classified texts: 1060/2000\n",
            "Classified texts: 1070/2000\n",
            "Classified texts: 1080/2000\n",
            "Classified texts: 1090/2000\n",
            "Classified texts: 1100/2000\n",
            "Classified texts: 1110/2000\n",
            "Classified texts: 1120/2000\n",
            "Classified texts: 1130/2000\n",
            "Classified texts: 1140/2000\n",
            "Classified texts: 1150/2000\n",
            "Classified texts: 1160/2000\n",
            "Classified texts: 1170/2000\n",
            "Classified texts: 1180/2000\n",
            "Classified texts: 1190/2000\n",
            "Classified texts: 1200/2000\n",
            "Classified texts: 1210/2000\n",
            "Classified texts: 1220/2000\n",
            "Classified texts: 1230/2000\n",
            "Classified texts: 1240/2000\n",
            "Classified texts: 1250/2000\n",
            "Classified texts: 1260/2000\n",
            "Classified texts: 1270/2000\n",
            "Classified texts: 1280/2000\n",
            "Classified texts: 1290/2000\n",
            "Classified texts: 1300/2000\n",
            "Classified texts: 1310/2000\n",
            "Classified texts: 1320/2000\n",
            "Classified texts: 1330/2000\n",
            "Classified texts: 1340/2000\n",
            "Classified texts: 1350/2000\n",
            "Classified texts: 1360/2000\n",
            "Classified texts: 1370/2000\n",
            "Classified texts: 1380/2000\n",
            "Classified texts: 1390/2000\n",
            "Classified texts: 1400/2000\n",
            "Classified texts: 1410/2000\n",
            "Classified texts: 1420/2000\n",
            "Classified texts: 1430/2000\n",
            "Classified texts: 1440/2000\n",
            "Classified texts: 1450/2000\n",
            "Classified texts: 1460/2000\n",
            "Classified texts: 1470/2000\n",
            "Classified texts: 1480/2000\n",
            "Classified texts: 1490/2000\n",
            "Classified texts: 1500/2000\n",
            "Classified texts: 1510/2000\n",
            "Classified texts: 1520/2000\n",
            "Classified texts: 1530/2000\n",
            "Classified texts: 1540/2000\n",
            "Classified texts: 1550/2000\n",
            "Classified texts: 1560/2000\n",
            "Classified texts: 1570/2000\n",
            "Classified texts: 1580/2000\n",
            "Classified texts: 1590/2000\n",
            "Classified texts: 1600/2000\n",
            "Classified texts: 1610/2000\n",
            "Classified texts: 1620/2000\n",
            "Classified texts: 1630/2000\n",
            "Classified texts: 1640/2000\n",
            "Classified texts: 1650/2000\n",
            "Classified texts: 1660/2000\n",
            "Classified texts: 1670/2000\n",
            "Classified texts: 1680/2000\n",
            "Classified texts: 1690/2000\n",
            "Classified texts: 1700/2000\n",
            "Classified texts: 1710/2000\n",
            "Classified texts: 1720/2000\n",
            "Classified texts: 1730/2000\n",
            "Classified texts: 1740/2000\n",
            "Classified texts: 1750/2000\n",
            "Classified texts: 1760/2000\n",
            "Classified texts: 1770/2000\n",
            "Classified texts: 1780/2000\n",
            "Classified texts: 1790/2000\n",
            "Classified texts: 1800/2000\n",
            "Classified texts: 1810/2000\n",
            "Classified texts: 1820/2000\n",
            "Classified texts: 1830/2000\n",
            "Classified texts: 1840/2000\n",
            "Classified texts: 1850/2000\n",
            "Classified texts: 1860/2000\n",
            "Classified texts: 1870/2000\n",
            "Classified texts: 1880/2000\n",
            "Classified texts: 1890/2000\n",
            "Classified texts: 1900/2000\n",
            "Classified texts: 1910/2000\n",
            "Classified texts: 1920/2000\n",
            "Classified texts: 1930/2000\n",
            "Classified texts: 1940/2000\n",
            "Classified texts: 1950/2000\n",
            "Classified texts: 1960/2000\n",
            "Classified texts: 1970/2000\n",
            "Classified texts: 1980/2000\n",
            "Classified texts: 1990/2000\n",
            "Classified texts: 2000/2000\n"
          ]
        }
      ],
      "source": [
        "pred_labels = predict_label(data_test['text'])"
      ]
    },
    {
      "cell_type": "code",
      "execution_count": null,
      "metadata": {
        "colab": {
          "base_uri": "https://localhost:8080/"
        },
        "id": "BLoyECtCaNBS",
        "outputId": "cb78fb4f-fc8c-418a-8dcf-f046fd3416e7"
      },
      "outputs": [
        {
          "data": {
            "text/plain": [
              "['Humor', 'Humor', 'Humor', 'Humor', 'Humor']"
            ]
          },
          "execution_count": 21,
          "metadata": {},
          "output_type": "execute_result"
        }
      ],
      "source": [
        "pred_labels[:5]"
      ]
    },
    {
      "cell_type": "code",
      "execution_count": null,
      "metadata": {
        "id": "kTbsUKv0NNyP"
      },
      "outputs": [],
      "source": [
        "test_labels = data_test['Categoria'].tolist()"
      ]
    },
    {
      "cell_type": "code",
      "execution_count": null,
      "metadata": {
        "colab": {
          "base_uri": "https://localhost:8080/"
        },
        "id": "nt_2MNZHaSs2",
        "outputId": "b54343a5-2f6a-4c45-883f-1be027ffca52"
      },
      "outputs": [
        {
          "data": {
            "text/plain": [
              "2000"
            ]
          },
          "execution_count": 26,
          "metadata": {},
          "output_type": "execute_result"
        }
      ],
      "source": [
        "len(test_labels)"
      ]
    },
    {
      "cell_type": "code",
      "execution_count": null,
      "metadata": {
        "colab": {
          "base_uri": "https://localhost:8080/"
        },
        "id": "hDYWzweQaMa8",
        "outputId": "ee2b7fb8-6ee9-4c07-bb8e-ff9cba35ec19"
      },
      "outputs": [
        {
          "name": "stdout",
          "output_type": "stream",
          "text": [
            "              precision    recall  f1-score   support\n",
            "\n",
            "    No Humor       0.98      1.00      0.99      1196\n",
            "       Humor       1.00      0.97      0.98       804\n",
            "\n",
            "    accuracy                           0.99      2000\n",
            "   macro avg       0.99      0.99      0.99      2000\n",
            "weighted avg       0.99      0.99      0.99      2000\n",
            "\n"
          ]
        }
      ],
      "source": [
        "target_names = ['No Humor', 'Humor']\n",
        "print(classification_report(test_labels, pred_labels, target_names=target_names))"
      ]
    },
    {
      "cell_type": "code",
      "execution_count": null,
      "metadata": {
        "colab": {
          "base_uri": "https://localhost:8080/",
          "height": 449
        },
        "id": "uhkeE2epanRf",
        "outputId": "76d88d8b-4dc8-482f-af6a-5cb3d653f81f"
      },
      "outputs": [
        {
          "data": {
            "image/png": "[encoded data removed]",
            "text/plain": [
              "<Figure size 640x480 with 2 Axes>"
            ]
          },
          "metadata": {},
          "output_type": "display_data"
        }
      ],
      "source": [
        "cm = confusion_matrix(test_labels, pred_labels)\n",
        "disp = ConfusionMatrixDisplay(confusion_matrix=cm)\n",
        "disp.plot()\n",
        "plt.show()"
      ]
    },
    {
      "cell_type": "markdown",
      "metadata": {
        "id": "ywM86EUw-xpZ"
      },
      "source": [
        "## Multi-class"
      ]
    },
    {
      "cell_type": "code",
      "execution_count": null,
      "metadata": {
        "id": "09vx8uFNBCiP"
      },
      "outputs": [],
      "source": [
        "data_test_mc = data_test.copy()\n",
        "data_test_mc = data_test_mc.dropna(subset=['score'])\n",
        "data_test_mc['score'] = data_test_mc['score'].astype(int)\n",
        "data_test_mc = data_test_mc.reset_index(drop=True)"
      ]
    },
    {
      "cell_type": "code",
      "execution_count": null,
      "metadata": {
        "colab": {
          "base_uri": "https://localhost:8080/",
          "height": 206
        },
        "id": "NjM1RGliBQWF",
        "outputId": "b28ff9fa-ea6b-4921-e189-705b3a2f0b12"
      },
      "outputs": [
        {
          "data": {
            "application/vnd.google.colaboratory.intrinsic+json": {
              "summary": "{\n  \"name\": \"data_test_mc\",\n  \"rows\": 1196,\n  \"fields\": [\n    {\n      \"column\": \"id\",\n      \"properties\": {\n        \"dtype\": \"number\",\n        \"std\": 826,\n        \"min\": 1,\n        \"max\": 2833,\n        \"num_unique_values\": 1196,\n        \"samples\": [\n          1508,\n          539,\n          2379\n        ],\n        \"semantic_type\": \"\",\n        \"description\": \"\"\n      }\n    },\n    {\n      \"column\": \"text\",\n      \"properties\": {\n        \"dtype\": \"string\",\n        \"num_unique_values\": 1196,\n        \"samples\": [\n          \"Vaun vasco por la calle con su hijo, los dos a pecho descubierto, y le dice un amigo: -\\u00a1Vaya m\\u00fasculos tiene tu hijo, Gorka! -Ya ves, y con siete a\\u00f1os. -\\u00bfC\\u00f3mo se hizo esa musculatura? -Cosas del m\\u00e9dico. Me dijo que el ni\\u00f1o tenia que coger peso y a coger pesas lo puse.\",\n          \"Dos borrachos que est\\u00e1n en la plaza del pueblo y uno le dice al otro: - Compadre, \\u00bfpor qu\\u00e9 no montamos un bar? Y le dice el otro: - \\u00a1Venga!, pero \\u00bfy si nos va malamente? Y le contesta el otro: - Pues si nos va malamente lo abrimos al p\\u00fablico.\",\n          \"Un borracho va cantando a gritos por la calle mientras vuelve a casa. Cuando est\\u00e1 llegando sale su mujer al balc\\u00f3n y le dice: - \\u00a1Paco no grites m\\u00e1s que se est\\u00e1 enterando todo el barrio! A lo que el marido responde: - \\u00bfY qu\\u00e9? \\u00a1Prefiero ser un borracho conocido que un alcoh\\u00f3lico an\\u00f3nimo!\"\n        ],\n        \"semantic_type\": \"\",\n        \"description\": \"\"\n      }\n    },\n    {\n      \"column\": \"Categoria\",\n      \"properties\": {\n        \"dtype\": \"category\",\n        \"num_unique_values\": 1,\n        \"samples\": [\n          \"Humor\"\n        ],\n        \"semantic_type\": \"\",\n        \"description\": \"\"\n      }\n    },\n    {\n      \"column\": \"score\",\n      \"properties\": {\n        \"dtype\": \"number\",\n        \"std\": 1,\n        \"min\": 1,\n        \"max\": 5,\n        \"num_unique_values\": 5,\n        \"samples\": [\n          3\n        ],\n        \"semantic_type\": \"\",\n        \"description\": \"\"\n      }\n    }\n  ]\n}",
              "type": "dataframe",
              "variable_name": "data_test_mc"
            },
            "text/html": [
              "\n",
              "  <div id=\"df-916268c3-a70f-49ae-84bd-1387870f5f7d\" class=\"colab-df-container\">\n",
              "    <div>\n",
              "<style scoped>\n",
              "    .dataframe tbody tr th:only-of-type {\n",
              "        vertical-align: middle;\n",
              "    }\n",
              "\n",
              "    .dataframe tbody tr th {\n",
              "        vertical-align: top;\n",
              "    }\n",
              "\n",
              "    .dataframe thead th {\n",
              "        text-align: right;\n",
              "    }\n",
              "</style>\n",
              "<table border=\"1\" class=\"dataframe\">\n",
              "  <thead>\n",
              "    <tr style=\"text-align: right;\">\n",
              "      <th></th>\n",
              "      <th>id</th>\n",
              "      <th>text</th>\n",
              "      <th>Categoria</th>\n",
              "      <th>score</th>\n",
              "    </tr>\n",
              "  </thead>\n",
              "  <tbody>\n",
              "    <tr>\n",
              "      <th>0</th>\n",
              "      <td>1</td>\n",
              "      <td>- ¡Rápido, necesitamos sangre! - Yo soy 0 posi...</td>\n",
              "      <td>Humor</td>\n",
              "      <td>4</td>\n",
              "    </tr>\n",
              "    <tr>\n",
              "      <th>1</th>\n",
              "      <td>3</td>\n",
              "      <td>El otro día unas chicas llamarón a mi puerta y...</td>\n",
              "      <td>Humor</td>\n",
              "      <td>3</td>\n",
              "    </tr>\n",
              "    <tr>\n",
              "      <th>2</th>\n",
              "      <td>6</td>\n",
              "      <td>Van dos ciegos y le dice uno al otro:  - Ojalá...</td>\n",
              "      <td>Humor</td>\n",
              "      <td>2</td>\n",
              "    </tr>\n",
              "    <tr>\n",
              "      <th>3</th>\n",
              "      <td>7</td>\n",
              "      <td>Noticia de última hora!!   Muere una suegra at...</td>\n",
              "      <td>Humor</td>\n",
              "      <td>4</td>\n",
              "    </tr>\n",
              "    <tr>\n",
              "      <th>4</th>\n",
              "      <td>9</td>\n",
              "      <td>– Mamá, mamá, ¿me haces un bocata de jamón? – ...</td>\n",
              "      <td>Humor</td>\n",
              "      <td>1</td>\n",
              "    </tr>\n",
              "  </tbody>\n",
              "</table>\n",
              "</div>\n",
              "    <div class=\"colab-df-buttons\">\n",
              "\n",
              "  <div class=\"colab-df-container\">\n",
              "    <button class=\"colab-df-convert\" onclick=\"convertToInteractive('df-916268c3-a70f-49ae-84bd-1387870f5f7d')\"\n",
              "            title=\"Convert this dataframe to an interactive table.\"\n",
              "            style=\"display:none;\">\n",
              "\n",
              "  <svg xmlns=\"http://www.w3.org/2000/svg\" height=\"24px\" viewBox=\"0 -960 960 960\">\n",
              "    <path d=\"M120-120v-720h720v720H120Zm60-500h600v-160H180v160Zm220 220h160v-160H400v160Zm0 220h160v-160H400v160ZM180-400h160v-160H180v160Zm440 0h160v-160H620v160ZM180-180h160v-160H180v160Zm440 0h160v-160H620v160Z\"/>\n",
              "  </svg>\n",
              "    </button>\n",
              "\n",
              "  <style>\n",
              "    .colab-df-container {\n",
              "      display:flex;\n",
              "      gap: 12px;\n",
              "    }\n",
              "\n",
              "    .colab-df-convert {\n",
              "      background-color: #E8F0FE;\n",
              "      border: none;\n",
              "      border-radius: 50%;\n",
              "      cursor: pointer;\n",
              "      display: none;\n",
              "      fill: #1967D2;\n",
              "      height: 32px;\n",
              "      padding: 0 0 0 0;\n",
              "      width: 32px;\n",
              "    }\n",
              "\n",
              "    .colab-df-convert:hover {\n",
              "      background-color: #E2EBFA;\n",
              "      box-shadow: 0px 1px 2px rgba(60, 64, 67, 0.3), 0px 1px 3px 1px rgba(60, 64, 67, 0.15);\n",
              "      fill: #174EA6;\n",
              "    }\n",
              "\n",
              "    .colab-df-buttons div {\n",
              "      margin-bottom: 4px;\n",
              "    }\n",
              "\n",
              "    [theme=dark] .colab-df-convert {\n",
              "      background-color: #3B4455;\n",
              "      fill: #D2E3FC;\n",
              "    }\n",
              "\n",
              "    [theme=dark] .colab-df-convert:hover {\n",
              "      background-color: #434B5C;\n",
              "      box-shadow: 0px 1px 3px 1px rgba(0, 0, 0, 0.15);\n",
              "      filter: drop-shadow(0px 1px 2px rgba(0, 0, 0, 0.3));\n",
              "      fill: #FFFFFF;\n",
              "    }\n",
              "  </style>\n",
              "\n",
              "    <script>\n",
              "      const buttonEl =\n",
              "        document.querySelector('#df-916268c3-a70f-49ae-84bd-1387870f5f7d button.colab-df-convert');\n",
              "      buttonEl.style.display =\n",
              "        google.colab.kernel.accessAllowed ? 'block' : 'none';\n",
              "\n",
              "      async function convertToInteractive(key) {\n",
              "        const element = document.querySelector('#df-916268c3-a70f-49ae-84bd-1387870f5f7d');\n",
              "        const dataTable =\n",
              "          await google.colab.kernel.invokeFunction('convertToInteractive',\n",
              "                                                    [key], {});\n",
              "        if (!dataTable) return;\n",
              "\n",
              "        const docLinkHtml = 'Like what you see? Visit the ' +\n",
              "          '<a target=\"_blank\" href=https://colab.research.google.com/notebooks/data_table.ipynb>data table notebook</a>'\n",
              "          + ' to learn more about interactive tables.';\n",
              "        element.innerHTML = '';\n",
              "        dataTable['output_type'] = 'display_data';\n",
              "        await google.colab.output.renderOutput(dataTable, element);\n",
              "        const docLink = document.createElement('div');\n",
              "        docLink.innerHTML = docLinkHtml;\n",
              "        element.appendChild(docLink);\n",
              "      }\n",
              "    </script>\n",
              "  </div>\n",
              "\n",
              "\n",
              "    <div id=\"df-a0dc7ea3-9908-49fd-8ead-1f768bf8591d\">\n",
              "      <button class=\"colab-df-quickchart\" onclick=\"quickchart('df-a0dc7ea3-9908-49fd-8ead-1f768bf8591d')\"\n",
              "                title=\"Suggest charts\"\n",
              "                style=\"display:none;\">\n",
              "\n",
              "<svg xmlns=\"http://www.w3.org/2000/svg\" height=\"24px\"viewBox=\"0 0 24 24\"\n",
              "     width=\"24px\">\n",
              "    <g>\n",
              "        <path d=\"M19 3H5c-1.1 0-2 .9-2 2v14c0 1.1.9 2 2 2h14c1.1 0 2-.9 2-2V5c0-1.1-.9-2-2-2zM9 17H7v-7h2v7zm4 0h-2V7h2v10zm4 0h-2v-4h2v4z\"/>\n",
              "    </g>\n",
              "</svg>\n",
              "      </button>\n",
              "\n",
              "<style>\n",
              "  .colab-df-quickchart {\n",
              "      --bg-color: #E8F0FE;\n",
              "      --fill-color: #1967D2;\n",
              "      --hover-bg-color: #E2EBFA;\n",
              "      --hover-fill-color: #174EA6;\n",
              "      --disabled-fill-color: #AAA;\n",
              "      --disabled-bg-color: #DDD;\n",
              "  }\n",
              "\n",
              "  [theme=dark] .colab-df-quickchart {\n",
              "      --bg-color: #3B4455;\n",
              "      --fill-color: #D2E3FC;\n",
              "      --hover-bg-color: #434B5C;\n",
              "      --hover-fill-color: #FFFFFF;\n",
              "      --disabled-bg-color: #3B4455;\n",
              "      --disabled-fill-color: #666;\n",
              "  }\n",
              "\n",
              "  .colab-df-quickchart {\n",
              "    background-color: var(--bg-color);\n",
              "    border: none;\n",
              "    border-radius: 50%;\n",
              "    cursor: pointer;\n",
              "    display: none;\n",
              "    fill: var(--fill-color);\n",
              "    height: 32px;\n",
              "    padding: 0;\n",
              "    width: 32px;\n",
              "  }\n",
              "\n",
              "  .colab-df-quickchart:hover {\n",
              "    background-color: var(--hover-bg-color);\n",
              "    box-shadow: 0 1px 2px rgba(60, 64, 67, 0.3), 0 1px 3px 1px rgba(60, 64, 67, 0.15);\n",
              "    fill: var(--button-hover-fill-color);\n",
              "  }\n",
              "\n",
              "  .colab-df-quickchart-complete:disabled,\n",
              "  .colab-df-quickchart-complete:disabled:hover {\n",
              "    background-color: var(--disabled-bg-color);\n",
              "    fill: var(--disabled-fill-color);\n",
              "    box-shadow: none;\n",
              "  }\n",
              "\n",
              "  .colab-df-spinner {\n",
              "    border: 2px solid var(--fill-color);\n",
              "    border-color: transparent;\n",
              "    border-bottom-color: var(--fill-color);\n",
              "    animation:\n",
              "      spin 1s steps(1) infinite;\n",
              "  }\n",
              "\n",
              "  @keyframes spin {\n",
              "    0% {\n",
              "      border-color: transparent;\n",
              "      border-bottom-color: var(--fill-color);\n",
              "      border-left-color: var(--fill-color);\n",
              "    }\n",
              "    20% {\n",
              "      border-color: transparent;\n",
              "      border-left-color: var(--fill-color);\n",
              "      border-top-color: var(--fill-color);\n",
              "    }\n",
              "    30% {\n",
              "      border-color: transparent;\n",
              "      border-left-color: var(--fill-color);\n",
              "      border-top-color: var(--fill-color);\n",
              "      border-right-color: var(--fill-color);\n",
              "    }\n",
              "    40% {\n",
              "      border-color: transparent;\n",
              "      border-right-color: var(--fill-color);\n",
              "      border-top-color: var(--fill-color);\n",
              "    }\n",
              "    60% {\n",
              "      border-color: transparent;\n",
              "      border-right-color: var(--fill-color);\n",
              "    }\n",
              "    80% {\n",
              "      border-color: transparent;\n",
              "      border-right-color: var(--fill-color);\n",
              "      border-bottom-color: var(--fill-color);\n",
              "    }\n",
              "    90% {\n",
              "      border-color: transparent;\n",
              "      border-bottom-color: var(--fill-color);\n",
              "    }\n",
              "  }\n",
              "</style>\n",
              "\n",
              "      <script>\n",
              "        async function quickchart(key) {\n",
              "          const quickchartButtonEl =\n",
              "            document.querySelector('#' + key + ' button');\n",
              "          quickchartButtonEl.disabled = true;  // To prevent multiple clicks.\n",
              "          quickchartButtonEl.classList.add('colab-df-spinner');\n",
              "          try {\n",
              "            const charts = await google.colab.kernel.invokeFunction(\n",
              "                'suggestCharts', [key], {});\n",
              "          } catch (error) {\n",
              "            console.error('Error during call to suggestCharts:', error);\n",
              "          }\n",
              "          quickchartButtonEl.classList.remove('colab-df-spinner');\n",
              "          quickchartButtonEl.classList.add('colab-df-quickchart-complete');\n",
              "        }\n",
              "        (() => {\n",
              "          let quickchartButtonEl =\n",
              "            document.querySelector('#df-a0dc7ea3-9908-49fd-8ead-1f768bf8591d button');\n",
              "          quickchartButtonEl.style.display =\n",
              "            google.colab.kernel.accessAllowed ? 'block' : 'none';\n",
              "        })();\n",
              "      </script>\n",
              "    </div>\n",
              "\n",
              "    </div>\n",
              "  </div>\n"
            ],
            "text/plain": [
              "   id                                               text Categoria  score\n",
              "0   1  - ¡Rápido, necesitamos sangre! - Yo soy 0 posi...     Humor      4\n",
              "1   3  El otro día unas chicas llamarón a mi puerta y...     Humor      3\n",
              "2   6  Van dos ciegos y le dice uno al otro:  - Ojalá...     Humor      2\n",
              "3   7  Noticia de última hora!!   Muere una suegra at...     Humor      4\n",
              "4   9  – Mamá, mamá, ¿me haces un bocata de jamón? – ...     Humor      1"
            ]
          },
          "execution_count": 30,
          "metadata": {},
          "output_type": "execute_result"
        }
      ],
      "source": [
        "data_test_mc.head()"
      ]
    },
    {
      "cell_type": "code",
      "execution_count": null,
      "metadata": {
        "colab": {
          "base_uri": "https://localhost:8080/"
        },
        "id": "QFSQi5NPBWci",
        "outputId": "f902d91f-821c-464b-c49f-122bb9f3bd1a"
      },
      "outputs": [
        {
          "data": {
            "text/plain": [
              "(1196, 4)"
            ]
          },
          "execution_count": 31,
          "metadata": {},
          "output_type": "execute_result"
        }
      ],
      "source": [
        "data_test_mc.shape"
      ]
    },
    {
      "cell_type": "code",
      "execution_count": null,
      "metadata": {
        "colab": {
          "base_uri": "https://localhost:8080/",
          "height": 272
        },
        "id": "9YrInaPJBa-J",
        "outputId": "6011f90c-f5ce-4ee6-f35d-491ab3555bf3"
      },
      "outputs": [
        {
          "data": {
            "text/html": [
              "<div>\n",
              "<style scoped>\n",
              "    .dataframe tbody tr th:only-of-type {\n",
              "        vertical-align: middle;\n",
              "    }\n",
              "\n",
              "    .dataframe tbody tr th {\n",
              "        vertical-align: top;\n",
              "    }\n",
              "\n",
              "    .dataframe thead th {\n",
              "        text-align: right;\n",
              "    }\n",
              "</style>\n",
              "<table border=\"1\" class=\"dataframe\">\n",
              "  <thead>\n",
              "    <tr style=\"text-align: right;\">\n",
              "      <th></th>\n",
              "      <th>count</th>\n",
              "    </tr>\n",
              "    <tr>\n",
              "      <th>score</th>\n",
              "      <th></th>\n",
              "    </tr>\n",
              "  </thead>\n",
              "  <tbody>\n",
              "    <tr>\n",
              "      <th>3</th>\n",
              "      <td>434</td>\n",
              "    </tr>\n",
              "    <tr>\n",
              "      <th>4</th>\n",
              "      <td>407</td>\n",
              "    </tr>\n",
              "    <tr>\n",
              "      <th>2</th>\n",
              "      <td>195</td>\n",
              "    </tr>\n",
              "    <tr>\n",
              "      <th>1</th>\n",
              "      <td>114</td>\n",
              "    </tr>\n",
              "    <tr>\n",
              "      <th>5</th>\n",
              "      <td>46</td>\n",
              "    </tr>\n",
              "  </tbody>\n",
              "</table>\n",
              "</div><br><label><b>dtype:</b> int64</label>"
            ],
            "text/plain": [
              "score\n",
              "3    434\n",
              "4    407\n",
              "2    195\n",
              "1    114\n",
              "5     46\n",
              "Name: count, dtype: int64"
            ]
          },
          "execution_count": 32,
          "metadata": {},
          "output_type": "execute_result"
        }
      ],
      "source": [
        "data_test_mc['score'].value_counts()"
      ]
    },
    {
      "cell_type": "code",
      "execution_count": null,
      "metadata": {
        "id": "QF9DJHPhAlTt"
      },
      "outputs": [],
      "source": [
        "def predict_score(texts):\n",
        "    predictions = []\n",
        "    for i, text in enumerate(texts):\n",
        "        response = client.messages.create(\n",
        "            model=\"claude-3-5-sonnet-20241022\",\n",
        "            max_tokens=10,\n",
        "            messages=[\n",
        "                {\"role\": \"user\", \"content\": f\"Asigna un puntaje entre 1 y 5 dependiendo del nivel de gracia causado por el siguiente texto, donde 1 es bajo y 5 es alto, retorna únicamente el puntaje:\\n{text}\"}\n",
        "            ]\n",
        "        )\n",
        "        prediction = response.content[0].text\n",
        "        predictions.append(prediction)\n",
        "        if (i + 1) % 10 == 0 or (i + 1) == len(texts):\n",
        "            print(f\"Classified texts: {i+1}/{len(texts)}\")\n",
        "    return predictions"
      ]
    },
    {
      "cell_type": "code",
      "execution_count": null,
      "metadata": {
        "colab": {
          "base_uri": "https://localhost:8080/"
        },
        "id": "1k_UglgGBAYz",
        "outputId": "95f7f16d-1937-46b0-b8e3-536c5ecef828"
      },
      "outputs": [
        {
          "name": "stdout",
          "output_type": "stream",
          "text": [
            "Classified texts: 10/1196\n",
            "Classified texts: 20/1196\n",
            "Classified texts: 30/1196\n",
            "Classified texts: 40/1196\n",
            "Classified texts: 50/1196\n",
            "Classified texts: 60/1196\n",
            "Classified texts: 70/1196\n",
            "Classified texts: 80/1196\n",
            "Classified texts: 90/1196\n",
            "Classified texts: 100/1196\n",
            "Classified texts: 110/1196\n",
            "Classified texts: 120/1196\n",
            "Classified texts: 130/1196\n",
            "Classified texts: 140/1196\n",
            "Classified texts: 150/1196\n",
            "Classified texts: 160/1196\n",
            "Classified texts: 170/1196\n",
            "Classified texts: 180/1196\n",
            "Classified texts: 190/1196\n",
            "Classified texts: 200/1196\n",
            "Classified texts: 210/1196\n",
            "Classified texts: 220/1196\n",
            "Classified texts: 230/1196\n",
            "Classified texts: 240/1196\n",
            "Classified texts: 250/1196\n",
            "Classified texts: 260/1196\n",
            "Classified texts: 270/1196\n",
            "Classified texts: 280/1196\n",
            "Classified texts: 290/1196\n",
            "Classified texts: 300/1196\n",
            "Classified texts: 310/1196\n",
            "Classified texts: 320/1196\n",
            "Classified texts: 330/1196\n",
            "Classified texts: 340/1196\n",
            "Classified texts: 350/1196\n",
            "Classified texts: 360/1196\n",
            "Classified texts: 370/1196\n",
            "Classified texts: 380/1196\n",
            "Classified texts: 390/1196\n",
            "Classified texts: 400/1196\n",
            "Classified texts: 410/1196\n",
            "Classified texts: 420/1196\n",
            "Classified texts: 430/1196\n",
            "Classified texts: 440/1196\n",
            "Classified texts: 450/1196\n",
            "Classified texts: 460/1196\n",
            "Classified texts: 470/1196\n",
            "Classified texts: 480/1196\n",
            "Classified texts: 490/1196\n",
            "Classified texts: 500/1196\n",
            "Classified texts: 510/1196\n",
            "Classified texts: 520/1196\n",
            "Classified texts: 530/1196\n",
            "Classified texts: 540/1196\n",
            "Classified texts: 550/1196\n",
            "Classified texts: 560/1196\n",
            "Classified texts: 570/1196\n",
            "Classified texts: 580/1196\n",
            "Classified texts: 590/1196\n",
            "Classified texts: 600/1196\n",
            "Classified texts: 610/1196\n",
            "Classified texts: 620/1196\n",
            "Classified texts: 630/1196\n",
            "Classified texts: 640/1196\n",
            "Classified texts: 650/1196\n",
            "Classified texts: 660/1196\n",
            "Classified texts: 670/1196\n",
            "Classified texts: 680/1196\n",
            "Classified texts: 690/1196\n",
            "Classified texts: 700/1196\n",
            "Classified texts: 710/1196\n",
            "Classified texts: 720/1196\n",
            "Classified texts: 730/1196\n",
            "Classified texts: 740/1196\n",
            "Classified texts: 750/1196\n",
            "Classified texts: 760/1196\n",
            "Classified texts: 770/1196\n",
            "Classified texts: 780/1196\n",
            "Classified texts: 790/1196\n",
            "Classified texts: 800/1196\n",
            "Classified texts: 810/1196\n",
            "Classified texts: 820/1196\n",
            "Classified texts: 830/1196\n",
            "Classified texts: 840/1196\n",
            "Classified texts: 850/1196\n",
            "Classified texts: 860/1196\n",
            "Classified texts: 870/1196\n",
            "Classified texts: 880/1196\n",
            "Classified texts: 890/1196\n",
            "Classified texts: 900/1196\n",
            "Classified texts: 910/1196\n",
            "Classified texts: 920/1196\n",
            "Classified texts: 930/1196\n",
            "Classified texts: 940/1196\n",
            "Classified texts: 950/1196\n",
            "Classified texts: 960/1196\n",
            "Classified texts: 970/1196\n",
            "Classified texts: 980/1196\n",
            "Classified texts: 990/1196\n",
            "Classified texts: 1000/1196\n",
            "Classified texts: 1010/1196\n",
            "Classified texts: 1020/1196\n",
            "Classified texts: 1030/1196\n",
            "Classified texts: 1040/1196\n",
            "Classified texts: 1050/1196\n",
            "Classified texts: 1060/1196\n",
            "Classified texts: 1070/1196\n",
            "Classified texts: 1080/1196\n",
            "Classified texts: 1090/1196\n",
            "Classified texts: 1100/1196\n",
            "Classified texts: 1110/1196\n",
            "Classified texts: 1120/1196\n",
            "Classified texts: 1130/1196\n",
            "Classified texts: 1140/1196\n",
            "Classified texts: 1150/1196\n",
            "Classified texts: 1160/1196\n",
            "Classified texts: 1170/1196\n",
            "Classified texts: 1180/1196\n",
            "Classified texts: 1190/1196\n",
            "Classified texts: 1196/1196\n"
          ]
        }
      ],
      "source": [
        "pred_scores = predict_score(data_test_mc['text'])"
      ]
    },
    {
      "cell_type": "code",
      "execution_count": null,
      "metadata": {
        "id": "GyEsnrgqBscc"
      },
      "outputs": [],
      "source": [
        "pred_scores_int = list(map(int, pred_scores))"
      ]
    },
    {
      "cell_type": "code",
      "execution_count": null,
      "metadata": {
        "colab": {
          "base_uri": "https://localhost:8080/"
        },
        "id": "uYslWdBVBydb",
        "outputId": "9df2a368-c850-417a-a3a2-24688f4a08a0"
      },
      "outputs": [
        {
          "data": {
            "text/plain": [
              "1196"
            ]
          },
          "execution_count": 24,
          "metadata": {},
          "output_type": "execute_result"
        }
      ],
      "source": [
        "len(pred_scores_int)"
      ]
    },
    {
      "cell_type": "code",
      "execution_count": null,
      "metadata": {
        "id": "l65Fy43tBzUY"
      },
      "outputs": [],
      "source": [
        "test_scores = data_test_mc['score'].tolist()"
      ]
    },
    {
      "cell_type": "code",
      "execution_count": null,
      "metadata": {
        "colab": {
          "base_uri": "https://localhost:8080/"
        },
        "id": "urL2qCq-B6BN",
        "outputId": "f0d3b663-e9e7-49ef-e752-f31b5fe76353"
      },
      "outputs": [
        {
          "data": {
            "text/plain": [
              "1196"
            ]
          },
          "execution_count": 26,
          "metadata": {},
          "output_type": "execute_result"
        }
      ],
      "source": [
        "len(test_scores)"
      ]
    },
    {
      "cell_type": "code",
      "execution_count": null,
      "metadata": {
        "colab": {
          "base_uri": "https://localhost:8080/"
        },
        "id": "oZ80NELCCBZv",
        "outputId": "e1e55a9d-9c33-4334-dd72-0e53108c265c"
      },
      "outputs": [
        {
          "name": "stdout",
          "output_type": "stream",
          "text": [
            "              precision    recall  f1-score   support\n",
            "\n",
            "           1       0.25      0.07      0.11       114\n",
            "           2       0.17      0.32      0.22       195\n",
            "           3       0.35      0.34      0.35       434\n",
            "           4       0.37      0.34      0.35       407\n",
            "           5       0.33      0.02      0.04        46\n",
            "\n",
            "    accuracy                           0.30      1196\n",
            "   macro avg       0.29      0.22      0.21      1196\n",
            "weighted avg       0.32      0.30      0.29      1196\n",
            "\n"
          ]
        }
      ],
      "source": [
        "print(classification_report(test_scores, pred_scores_int))"
      ]
    },
    {
      "cell_type": "code",
      "execution_count": null,
      "metadata": {
        "colab": {
          "base_uri": "https://localhost:8080/",
          "height": 449
        },
        "id": "4Ap9vSG4CEx1",
        "outputId": "84b8c915-3e8f-46df-c7ba-3491d23b8559"
      },
      "outputs": [
        {
          "data": {
            "image/png": "[encoded data removed]",
            "text/plain": [
              "<Figure size 640x480 with 2 Axes>"
            ]
          },
          "metadata": {},
          "output_type": "display_data"
        }
      ],
      "source": [
        "cm = confusion_matrix(test_scores, pred_scores_int)\n",
        "disp = ConfusionMatrixDisplay(confusion_matrix=cm)\n",
        "disp.plot()\n",
        "plt.show()"
      ]
    },
    {
      "cell_type": "code",
      "execution_count": null,
      "metadata": {
        "id": "QcqO7GRh6kdp"
      },
      "outputs": [],
      "source": []
    }
  ],
  "metadata": {
    "colab": {
      "provenance": []
    },
    "kernelspec": {
      "display_name": "Python 3",
      "name": "python3"
    },
    "language_info": {
      "name": "python"
    }
  },
  "nbformat": 4,
  "nbformat_minor": 0
}
