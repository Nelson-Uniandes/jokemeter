{
 "cells": [
  {
   "cell_type": "code",
   "execution_count": 5,
   "id": "3b96d463",
   "metadata": {},
   "outputs": [],
   "source": [
    "import os\n",
    "import pandas as pd\n",
    "import json\n",
    "import re\n",
    "import numpy as np\n",
    "import time\n",
    "from sklearn.metrics import confusion_matrix, classification_report\n",
    "import matplotlib.pyplot as plt\n",
    "import seaborn as sns\n",
    "\n"
   ]
  },
  {
   "cell_type": "code",
   "execution_count": 2,
   "id": "605ba227",
   "metadata": {},
   "outputs": [
    {
     "data": {
      "text/plain": [
       "(2000, 7)"
      ]
     },
     "execution_count": 2,
     "metadata": {},
     "output_type": "execute_result"
    }
   ],
   "source": [
    "excel_file = \"textos_resultados.xlsx\"\n",
    "df = pd.read_excel(excel_file)\n",
    "df.shape\n"
   ]
  },
  {
   "cell_type": "code",
   "execution_count": 6,
   "id": "091e7adb",
   "metadata": {},
   "outputs": [
    {
     "data": {
      "text/html": [
       "<div>\n",
       "<style scoped>\n",
       "    .dataframe tbody tr th:only-of-type {\n",
       "        vertical-align: middle;\n",
       "    }\n",
       "\n",
       "    .dataframe tbody tr th {\n",
       "        vertical-align: top;\n",
       "    }\n",
       "\n",
       "    .dataframe thead th {\n",
       "        text-align: right;\n",
       "    }\n",
       "</style>\n",
       "<table border=\"1\" class=\"dataframe\">\n",
       "  <thead>\n",
       "    <tr style=\"text-align: right;\">\n",
       "      <th></th>\n",
       "      <th>ID</th>\n",
       "      <th>Texto</th>\n",
       "      <th>Categoria</th>\n",
       "      <th>Categoría de 1 a 5</th>\n",
       "      <th>Dataset</th>\n",
       "      <th>calificacion_tipo_texto</th>\n",
       "      <th>calificacion_humor</th>\n",
       "    </tr>\n",
       "  </thead>\n",
       "  <tbody>\n",
       "    <tr>\n",
       "      <th>0</th>\n",
       "      <td>1</td>\n",
       "      <td>- ¡Rápido, necesitamos sangre! - Yo soy 0 posi...</td>\n",
       "      <td>Humor</td>\n",
       "      <td>4.0</td>\n",
       "      <td>test</td>\n",
       "      <td>1</td>\n",
       "      <td>3.0</td>\n",
       "    </tr>\n",
       "    <tr>\n",
       "      <th>1</th>\n",
       "      <td>3</td>\n",
       "      <td>El otro día unas chicas llamarón a mi puerta y...</td>\n",
       "      <td>Humor</td>\n",
       "      <td>3.0</td>\n",
       "      <td>test</td>\n",
       "      <td>1</td>\n",
       "      <td>3.0</td>\n",
       "    </tr>\n",
       "    <tr>\n",
       "      <th>2</th>\n",
       "      <td>6</td>\n",
       "      <td>Van dos ciegos y le dice uno al otro:  - Ojalá...</td>\n",
       "      <td>Humor</td>\n",
       "      <td>2.0</td>\n",
       "      <td>test</td>\n",
       "      <td>1</td>\n",
       "      <td>4.0</td>\n",
       "    </tr>\n",
       "    <tr>\n",
       "      <th>3</th>\n",
       "      <td>7</td>\n",
       "      <td>Noticia de última hora!!   Muere una suegra at...</td>\n",
       "      <td>Humor</td>\n",
       "      <td>4.0</td>\n",
       "      <td>test</td>\n",
       "      <td>1</td>\n",
       "      <td>3.0</td>\n",
       "    </tr>\n",
       "    <tr>\n",
       "      <th>4</th>\n",
       "      <td>9</td>\n",
       "      <td>– Mamá, mamá, ¿me haces un bocata de jamón? – ...</td>\n",
       "      <td>Humor</td>\n",
       "      <td>1.0</td>\n",
       "      <td>test</td>\n",
       "      <td>1</td>\n",
       "      <td>2.0</td>\n",
       "    </tr>\n",
       "    <tr>\n",
       "      <th>...</th>\n",
       "      <td>...</td>\n",
       "      <td>...</td>\n",
       "      <td>...</td>\n",
       "      <td>...</td>\n",
       "      <td>...</td>\n",
       "      <td>...</td>\n",
       "      <td>...</td>\n",
       "    </tr>\n",
       "    <tr>\n",
       "      <th>1995</th>\n",
       "      <td>10910</td>\n",
       "      <td>¿Qué país es famoso por su rueda de queso cono...</td>\n",
       "      <td>No Humor</td>\n",
       "      <td>NaN</td>\n",
       "      <td>test</td>\n",
       "      <td>0</td>\n",
       "      <td>1.0</td>\n",
       "    </tr>\n",
       "    <tr>\n",
       "      <th>1996</th>\n",
       "      <td>10918</td>\n",
       "      <td>¿Quién fue el primer hombre en pisar la luna? ...</td>\n",
       "      <td>No Humor</td>\n",
       "      <td>NaN</td>\n",
       "      <td>test</td>\n",
       "      <td>0</td>\n",
       "      <td>1.0</td>\n",
       "    </tr>\n",
       "    <tr>\n",
       "      <th>1997</th>\n",
       "      <td>10919</td>\n",
       "      <td>¿Cómo se llama la última cena de Pascua que Je...</td>\n",
       "      <td>No Humor</td>\n",
       "      <td>NaN</td>\n",
       "      <td>test</td>\n",
       "      <td>0</td>\n",
       "      <td>1.0</td>\n",
       "    </tr>\n",
       "    <tr>\n",
       "      <th>1998</th>\n",
       "      <td>10921</td>\n",
       "      <td>¿En qué país se encuentran las pirámides de Gi...</td>\n",
       "      <td>No Humor</td>\n",
       "      <td>NaN</td>\n",
       "      <td>test</td>\n",
       "      <td>0</td>\n",
       "      <td>1.0</td>\n",
       "    </tr>\n",
       "    <tr>\n",
       "      <th>1999</th>\n",
       "      <td>10937</td>\n",
       "      <td>¿Cuál fue el primer metal utilizado por el hom...</td>\n",
       "      <td>No Humor</td>\n",
       "      <td>NaN</td>\n",
       "      <td>test</td>\n",
       "      <td>0</td>\n",
       "      <td>1.0</td>\n",
       "    </tr>\n",
       "  </tbody>\n",
       "</table>\n",
       "<p>2000 rows × 7 columns</p>\n",
       "</div>"
      ],
      "text/plain": [
       "         ID                                              Texto Categoria  \\\n",
       "0         1  - ¡Rápido, necesitamos sangre! - Yo soy 0 posi...     Humor   \n",
       "1         3  El otro día unas chicas llamarón a mi puerta y...     Humor   \n",
       "2         6  Van dos ciegos y le dice uno al otro:  - Ojalá...     Humor   \n",
       "3         7  Noticia de última hora!!   Muere una suegra at...     Humor   \n",
       "4         9  – Mamá, mamá, ¿me haces un bocata de jamón? – ...     Humor   \n",
       "...     ...                                                ...       ...   \n",
       "1995  10910  ¿Qué país es famoso por su rueda de queso cono...  No Humor   \n",
       "1996  10918  ¿Quién fue el primer hombre en pisar la luna? ...  No Humor   \n",
       "1997  10919  ¿Cómo se llama la última cena de Pascua que Je...  No Humor   \n",
       "1998  10921  ¿En qué país se encuentran las pirámides de Gi...  No Humor   \n",
       "1999  10937  ¿Cuál fue el primer metal utilizado por el hom...  No Humor   \n",
       "\n",
       "      Categoría de 1 a 5 Dataset  calificacion_tipo_texto  calificacion_humor  \n",
       "0                    4.0    test                        1                 3.0  \n",
       "1                    3.0    test                        1                 3.0  \n",
       "2                    2.0    test                        1                 4.0  \n",
       "3                    4.0    test                        1                 3.0  \n",
       "4                    1.0    test                        1                 2.0  \n",
       "...                  ...     ...                      ...                 ...  \n",
       "1995                 NaN    test                        0                 1.0  \n",
       "1996                 NaN    test                        0                 1.0  \n",
       "1997                 NaN    test                        0                 1.0  \n",
       "1998                 NaN    test                        0                 1.0  \n",
       "1999                 NaN    test                        0                 1.0  \n",
       "\n",
       "[2000 rows x 7 columns]"
      ]
     },
     "execution_count": 6,
     "metadata": {},
     "output_type": "execute_result"
    }
   ],
   "source": [
    "df"
   ]
  },
  {
   "cell_type": "code",
   "execution_count": 7,
   "id": "e89dede7",
   "metadata": {},
   "outputs": [
    {
     "data": {
      "image/png": "[encoded data removed]",
      "text/plain": [
       "<Figure size 500x400 with 1 Axes>"
      ]
     },
     "metadata": {},
     "output_type": "display_data"
    }
   ],
   "source": [
    "y_true =  df[\"Categoria\"].map({\n",
    "    \"Humor\": 1,\n",
    "    \"No Humor\": 0  # ajusta esto si se llama diferente\n",
    "})\n",
    "y_pred = df['calificacion_tipo_texto']\n",
    "cm = confusion_matrix(y_true, y_pred)\n",
    "\n",
    "# Crear gráfico\n",
    "plt.figure(figsize=(5, 4))\n",
    "sns.heatmap(cm, annot=True, fmt='d', cmap='Blues', cbar=False)\n",
    "plt.xlabel('Predicción')\n",
    "plt.ylabel('Real')\n",
    "plt.title('Matriz de Confusión')\n",
    "plt.show()"
   ]
  },
  {
   "cell_type": "code",
   "execution_count": 8,
   "id": "2fb7b9e4",
   "metadata": {},
   "outputs": [
    {
     "name": "stdout",
     "output_type": "stream",
     "text": [
      "Reporte de clasificación:\n",
      "              precision    recall  f1-score   support\n",
      "\n",
      "           0       0.95      0.95      0.95       804\n",
      "           1       0.97      0.97      0.97      1196\n",
      "\n",
      "    accuracy                           0.96      2000\n",
      "   macro avg       0.96      0.96      0.96      2000\n",
      "weighted avg       0.96      0.96      0.96      2000\n",
      "\n"
     ]
    }
   ],
   "source": [
    "print(\"Reporte de clasificación:\")\n",
    "print(classification_report(y_true, y_pred))"
   ]
  },
  {
   "cell_type": "code",
   "execution_count": 16,
   "id": "42f2f725",
   "metadata": {},
   "outputs": [],
   "source": [
    "y_true =  df[(df['Categoria'] == 'Humor') & (df['calificacion_tipo_texto'] == 1)][\"Categoría de 1 a 5\"]\n",
    "y_pred = df[(df['Categoria'] == 'Humor')  & (df['calificacion_tipo_texto'] == 1)]['calificacion_humor']"
   ]
  },
  {
   "cell_type": "code",
   "execution_count": 17,
   "id": "45f31cfb",
   "metadata": {},
   "outputs": [
    {
     "data": {
      "image/png": "[encoded data removed]",
      "text/plain": [
       "<Figure size 500x400 with 1 Axes>"
      ]
     },
     "metadata": {},
     "output_type": "display_data"
    }
   ],
   "source": [
    "cm = confusion_matrix(y_true, y_pred)\n",
    "\n",
    "# Crear gráfico\n",
    "plt.figure(figsize=(5, 4))\n",
    "sns.heatmap(cm, annot=True, fmt='d', cmap='Blues', cbar=False)\n",
    "plt.xlabel('Predicción')\n",
    "plt.ylabel('Real')\n",
    "plt.title('Matriz de Confusión')\n",
    "plt.show()"
   ]
  },
  {
   "cell_type": "code",
   "execution_count": 18,
   "id": "c14d973b",
   "metadata": {},
   "outputs": [
    {
     "name": "stdout",
     "output_type": "stream",
     "text": [
      "Reporte de clasificación:\n",
      "              precision    recall  f1-score   support\n",
      "\n",
      "         1.0       0.20      0.02      0.03       105\n",
      "         2.0       0.19      0.19      0.19       183\n",
      "         3.0       0.38      0.43      0.40       424\n",
      "         4.0       0.40      0.41      0.40       397\n",
      "         5.0       0.06      0.11      0.08        46\n",
      "\n",
      "    accuracy                           0.33      1155\n",
      "   macro avg       0.25      0.23      0.22      1155\n",
      "weighted avg       0.33      0.33      0.32      1155\n",
      "\n"
     ]
    }
   ],
   "source": [
    "print(\"Reporte de clasificación:\")\n",
    "print(classification_report(y_true, y_pred))"
   ]
  },
  {
   "cell_type": "code",
   "execution_count": null,
   "id": "ffb369b9",
   "metadata": {},
   "outputs": [],
   "source": []
  }
 ],
 "metadata": {
  "kernelspec": {
   "display_name": "venv",
   "language": "python",
   "name": "python3"
  },
  "language_info": {
   "codemirror_mode": {
    "name": "ipython",
    "version": 3
   },
   "file_extension": ".py",
   "mimetype": "text/x-python",
   "name": "python",
   "nbconvert_exporter": "python",
   "pygments_lexer": "ipython3",
   "version": "3.10.12"
  }
 },
 "nbformat": 4,
 "nbformat_minor": 5
}
